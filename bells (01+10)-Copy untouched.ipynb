{
 "cells": [
  {
   "cell_type": "code",
   "execution_count": 12,
   "metadata": {},
   "outputs": [],
   "source": [
    "import numpy as np\n",
    "\n",
    "# Importing standard Qiskit libraries\n",
    "from qiskit import QuantumCircuit, transpile, Aer, IBMQ, execute\n",
    "from qiskit.tools.jupyter import *\n",
    "from qiskit.tools.monitor import job_monitor\n",
    "from qiskit.visualization import *\n",
    "from qiskit.providers.aer import QasmSimulator\n",
    "provider = IBMQ.load_account()\n"
   ]
  },
  {
   "cell_type": "code",
   "execution_count": 13,
   "metadata": {},
   "outputs": [
    {
     "data": {
      "image/png": "[encoded data removed]",
      "text/plain": [
       "<Figure size 327.252x204.68 with 1 Axes>"
      ]
     },
     "execution_count": 13,
     "metadata": {},
     "output_type": "execute_result"
    }
   ],
   "source": [
    "#Making bell's entangled state 00+11\n",
    "qc_ent=QuantumCircuit(2,2)\n",
    "qc_ent.h(0)\n",
    "qc_ent.x(1)\n",
    "qc_ent.cx(0,1) \n",
    "qc_ent.measure(0,0)\n",
    "qc_ent.measure(1,1)\n",
    "qc_ent.draw(output='mpl')\n"
   ]
  },
  {
   "cell_type": "code",
   "execution_count": 14,
   "metadata": {},
   "outputs": [
    {
     "name": "stdout",
     "output_type": "stream",
     "text": [
      "Job Status: job has successfully run\n",
      "Job Status: job has successfully run\n",
      "Job Status: job has successfully run\n",
      "Job Status: job has successfully run\n",
      "Job Status: job has successfully run\n",
      "Job Status: job has successfully run\n"
     ]
    },
    {
     "data": {
      "text/plain": [
       "[{'00': 103, '01': 428, '10': 464, '11': 5},\n",
       " {'00': 139, '01': 1514, '10': 1328, '11': 19},\n",
       " {'00': 198, '01': 2406, '10': 2362, '11': 34},\n",
       " {'00': 289, '01': 3359, '10': 3306, '11': 46},\n",
       " {'00': 380, '01': 4400, '10': 4170, '11': 50},\n",
       " {'00': 414, '01': 5205, '10': 5318, '11': 63}]"
      ]
     },
     "execution_count": 14,
     "metadata": {},
     "output_type": "execute_result"
    }
   ],
   "source": [
    "#Running first circuit(bell's state) on IBMQ_lima\n",
    "ent_all=[]\n",
    "\n",
    "from qiskit import execute\n",
    "for i in range(1000,11001,2000):\n",
    "    qcomp=provider.get_backend('ibmq_lima')\n",
    "    job=execute(qc_ent,backend=qcomp, shots= i)\n",
    "    job_monitor(job)\n",
    "    result=job.result()\n",
    "    count=result.get_counts(qc_ent)\n",
    "    ent_all.append(count)\n",
    "ent_all"
   ]
  },
  {
   "cell_type": "code",
   "execution_count": 22,
   "metadata": {},
   "outputs": [],
   "source": [
    "ent_00=[]\n",
    "for i in range(len(ent_all)):\n",
    "    ent_00.append(ent_all[i]['00'])\n",
    "ent_11=[]\n",
    "for i in range(len(ent_all)):\n",
    "    ent_11.append(ent_all[i]['11'])"
   ]
  },
  {
   "cell_type": "code",
   "execution_count": 15,
   "metadata": {
    "scrolled": true
   },
   "outputs": [
    {
     "data": {
      "image/png": "[encoded data removed]",
      "text/plain": [
       "<Figure size 327.252x204.68 with 1 Axes>"
      ]
     },
     "execution_count": 15,
     "metadata": {},
     "output_type": "execute_result"
    }
   ],
   "source": [
    "#Making separable state state 00+01\n",
    "from numpy import pi\n",
    "sep10=QuantumCircuit(2,2)\n",
    "sep10.x(0)\n",
    "sep10.x(1)\n",
    "sep10.cx(0,1)\n",
    "sep10.measure(0,0)\n",
    "sep10.measure(1,1)\n",
    "sep10.draw(output='mpl')\n",
    "# Running on qasm_simulator just for a check"
   ]
  },
  {
   "cell_type": "code",
   "execution_count": 7,
   "metadata": {},
   "outputs": [
    {
     "data": {
      "text/plain": [
       "{'01': 1024}"
      ]
     },
     "execution_count": 7,
     "metadata": {},
     "output_type": "execute_result"
    }
   ],
   "source": [
    "job=execute(sep10,backend=Aer.get_backend('qasm_simulator'),shots=1024)\n",
    "result=job.result()\n",
    "count=result.get_counts(sep10)\n",
    "count"
   ]
  },
  {
   "cell_type": "code",
   "execution_count": 16,
   "metadata": {},
   "outputs": [
    {
     "name": "stdout",
     "output_type": "stream",
     "text": [
      "Job Status: job has successfully run\n",
      "Job Status: job has successfully run\n",
      "Job Status: job has successfully run\n",
      "Job Status: job has successfully run\n",
      "Job Status: job has successfully run\n",
      "Job Status: job has successfully run\n"
     ]
    },
    {
     "data": {
      "text/plain": [
       "[{'00': 144, '01': 844, '10': 6, '11': 6},\n",
       " {'00': 129, '01': 2839, '10': 15, '11': 17},\n",
       " {'00': 595, '01': 4350, '10': 20, '11': 35},\n",
       " {'00': 259, '01': 6647, '10': 34, '11': 60},\n",
       " {'00': 362, '01': 8531, '10': 37, '11': 70},\n",
       " {'00': 431, '01': 10451, '10': 42, '11': 76}]"
      ]
     },
     "execution_count": 16,
     "metadata": {},
     "output_type": "execute_result"
    }
   ],
   "source": [
    "sep10_all=[]\n",
    "for i in range(1000,11001,2000):\n",
    "    \n",
    "\n",
    "    qcomp=provider.get_backend('ibmq_lima')\n",
    "    job=execute(sep10,backend=qcomp,shots=i)\n",
    "    job_monitor(job)\n",
    "    result=job.result()\n",
    "    count=result.get_counts(sep10)\n",
    "    sep10_all.append(count)\n",
    "sep10_all"
   ]
  },
  {
   "cell_type": "code",
   "execution_count": 17,
   "metadata": {},
   "outputs": [
    {
     "data": {
      "image/png": "[encoded data removed]",
      "text/plain": [
       "<Figure size 327.252x204.68 with 1 Axes>"
      ]
     },
     "execution_count": 17,
     "metadata": {},
     "output_type": "execute_result"
    }
   ],
   "source": [
    "#Making separable state state 00+01\n",
    "from numpy import pi\n",
    "sep01=QuantumCircuit(2,2)\n",
    "sep01.x(0)\n",
    "sep01.x(1)\n",
    "sep01.cx(1,0)\n",
    "sep01.measure(0,0)\n",
    "sep01.measure(1,1)\n",
    "sep01.draw(output='mpl')\n",
    "# Running on qasm_simulator just for a check"
   ]
  },
  {
   "cell_type": "code",
   "execution_count": 11,
   "metadata": {},
   "outputs": [
    {
     "data": {
      "text/plain": [
       "{'10': 1024}"
      ]
     },
     "execution_count": 11,
     "metadata": {},
     "output_type": "execute_result"
    }
   ],
   "source": [
    "job=execute(sep01,backend=Aer.get_backend('qasm_simulator'),shots=1024)\n",
    "result=job.result()\n",
    "count=result.get_counts(sep01)\n",
    "count"
   ]
  },
  {
   "cell_type": "code",
   "execution_count": 18,
   "metadata": {},
   "outputs": [
    {
     "name": "stdout",
     "output_type": "stream",
     "text": [
      "Job Status: job has successfully run\n",
      "Job Status: job has successfully run\n",
      "Job Status: job has successfully run\n",
      "Job Status: job has successfully run\n",
      "Job Status: job has successfully run\n",
      "Job Status: job has successfully run\n"
     ]
    },
    {
     "data": {
      "text/plain": [
       "[{'00': 32, '01': 7, '10': 953, '11': 8},\n",
       " {'00': 114, '01': 9, '10': 2855, '11': 22},\n",
       " {'00': 157, '01': 16, '10': 4777, '11': 50},\n",
       " {'00': 247, '01': 19, '10': 6669, '11': 65},\n",
       " {'00': 316, '01': 38, '10': 8551, '11': 95},\n",
       " {'00': 416, '01': 43, '10': 10417, '11': 124}]"
      ]
     },
     "execution_count": 18,
     "metadata": {},
     "output_type": "execute_result"
    }
   ],
   "source": [
    "sep01_all=[]\n",
    "for i in range(1000,11001,2000):\n",
    "    \n",
    "\n",
    "    qcomp=provider.get_backend('ibmq_lima')\n",
    "    job=execute(sep01,backend=qcomp,shots=i)\n",
    "    job_monitor(job)\n",
    "    result=job.result()\n",
    "    count=result.get_counts(sep01)\n",
    "    sep01_all.append(count)\n",
    "sep01_all"
   ]
  },
  {
   "cell_type": "code",
   "execution_count": 20,
   "metadata": {},
   "outputs": [],
   "source": [
    "sep01_00=[]\n",
    "for i in range(len(sep01_all)):\n",
    "    sep01_00.append(sep01_all[i]['00'])\n",
    "sep01_11=[]\n",
    "for i in range(len(sep01_all)):\n",
    "    sep01_11.append(sep01_all[i]['11'])"
   ]
  },
  {
   "cell_type": "code",
   "execution_count": 21,
   "metadata": {},
   "outputs": [],
   "source": [
    "sep10_00=[]\n",
    "for i in range(len(sep10_all)):\n",
    "    sep10_00.append(sep10_all[i]['00'])\n",
    "sep10_11=[]\n",
    "for i in range(len(sep10_all)):\n",
    "    sep10_11.append(sep10_all[i]['11'])"
   ]
  },
  {
   "cell_type": "code",
   "execution_count": 23,
   "metadata": {},
   "outputs": [],
   "source": [
    "countx=[]\n",
    "for i in range(1000,11001,2000):\n",
    "    countx.append(i)"
   ]
  },
  {
   "cell_type": "code",
   "execution_count": 26,
   "metadata": {},
   "outputs": [
    {
     "data": {
      "image/png": "[encoded data removed]",
      "text/plain": [
       "<Figure size 432x288 with 1 Axes>"
      ]
     },
     "metadata": {
      "needs_background": "light"
     },
     "output_type": "display_data"
    }
   ],
   "source": [
    "#Plotting curves of error state 01 from all circuits\n",
    "import matplotlib.pyplot as plt\n",
    " \n",
    "# line 1 points\n",
    "x1 = countx\n",
    "y1 = ent_00\n",
    "# plotting the line 1 points\n",
    "plt.plot(x1, y1, label = \"ent00\")\n",
    " \n",
    "# line 2 points\n",
    "#x2 = countx\n",
    "#y2 = sep_01\n",
    "# plotting the line 2 points\n",
    "#plt.plot(x2, y2, label = \"01sep\")\n",
    "\n",
    "# line 3 points\n",
    "x3 = countx\n",
    "y3 = sep01_00\n",
    "# plotting the line 2 points\n",
    "plt.plot(x3, y3, label = \"00sep1\")\n",
    "\n",
    "# line 4 points\n",
    "x4 = countx\n",
    "y4 = sep10_00\n",
    "# plotting the line 2 points\n",
    "plt.plot(x4, y4, label = \"00sep2\")\n",
    " \n",
    "# naming the x axis\n",
    "plt.xlabel('shots')\n",
    "# naming the y axis\n",
    "plt.ylabel('00_counts')\n",
    "# giving a title to my graph\n",
    "plt.title('Three lines for 00')\n",
    " \n",
    "# show a legend on the plot\n",
    "plt.legend()\n",
    " \n",
    "# function to show the plot\n",
    "plt.show()"
   ]
  },
  {
   "cell_type": "code",
   "execution_count": 27,
   "metadata": {},
   "outputs": [
    {
     "data": {
      "image/png": "[encoded data removed]",
      "text/plain": [
       "<Figure size 432x288 with 1 Axes>"
      ]
     },
     "metadata": {
      "needs_background": "light"
     },
     "output_type": "display_data"
    }
   ],
   "source": [
    "#Plotting curves of error state 01 from all circuits\n",
    "import matplotlib.pyplot as plt\n",
    " \n",
    "# line 1 points\n",
    "x1 = countx\n",
    "y1 = ent_11\n",
    "# plotting the line 1 points\n",
    "plt.plot(x1, y1, label = \"ent11\")\n",
    " \n",
    "# line 2 points\n",
    "#x2 = countx\n",
    "#y2 = sep_01\n",
    "# plotting the line 2 points\n",
    "#plt.plot(x2, y2, label = \"01sep\")\n",
    "\n",
    "# line 3 points\n",
    "x3 = countx\n",
    "y3 = sep01_11\n",
    "# plotting the line 2 points\n",
    "plt.plot(x3, y3, label = \"11sep1\")\n",
    "\n",
    "# line 4 points\n",
    "x4 = countx\n",
    "y4 = sep10_11\n",
    "# plotting the line 2 points\n",
    "plt.plot(x4, y4, label = \"11sep2\")\n",
    " \n",
    "# naming the x axis\n",
    "plt.xlabel('shots')\n",
    "# naming the y axis\n",
    "plt.ylabel('11_counts')\n",
    "# giving a title to my graph\n",
    "plt.title('Three lines for 11')\n",
    " \n",
    "# show a legend on the plot\n",
    "plt.legend()\n",
    " \n",
    "# function to show the plot\n",
    "plt.show()"
   ]
  },
  {
   "cell_type": "code",
   "execution_count": null,
   "metadata": {},
   "outputs": [],
   "source": []
  }
 ],
 "metadata": {
  "kernelspec": {
   "display_name": "Python 3",
   "language": "python",
   "name": "python3"
  },
  "language_info": {
   "codemirror_mode": {
    "name": "ipython",
    "version": 3
   },
   "file_extension": ".py",
   "mimetype": "text/x-python",
   "name": "python",
   "nbconvert_exporter": "python",
   "pygments_lexer": "ipython3",
   "version": "3.8.5"
  }
 },
 "nbformat": 4,
 "nbformat_minor": 4
}
